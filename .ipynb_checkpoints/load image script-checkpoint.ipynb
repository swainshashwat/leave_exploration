{
 "cells": [
  {
   "cell_type": "markdown",
   "metadata": {},
   "source": [
    "#### importing necessary packages"
   ]
  },
  {
   "cell_type": "code",
   "execution_count": 4,
   "metadata": {},
   "outputs": [],
   "source": [
    "import os\n",
    "import numpy as np\n",
    "import pandas as pd"
   ]
  },
  {
   "cell_type": "code",
   "execution_count": 27,
   "metadata": {},
   "outputs": [],
   "source": [
    "from sklearn.preprocessing import LabelEncoder, StandardScaler\n",
    "from sklearn.model_selection import StratifiedShuffleSplit"
   ]
  },
  {
   "cell_type": "code",
   "execution_count": 23,
   "metadata": {},
   "outputs": [],
   "source": [
    "from keras.utils.np_utils import to_categorical\n",
    "from keras.preprocessing.image import img_to_array, load_img"
   ]
  },
  {
   "cell_type": "code",
   "execution_count": 8,
   "metadata": {},
   "outputs": [],
   "source": [
    "# setting constants\n",
    "root = '../leaf-mask-classification/'\n",
    "np.random.seed(2016) # setting seed\n",
    "split_random_state = 7\n",
    "split = .9 # 90-10 train-test split"
   ]
  },
  {
   "cell_type": "code",
   "execution_count": 18,
   "metadata": {},
   "outputs": [],
   "source": [
    "def load_numeric_training(standardize=True):\n",
    "    '''\n",
    "    Loads pre-extracted features for the training data\n",
    "    -------------returns-------------\n",
    "    ID: Image ids\n",
    "    X: Data\n",
    "    y: label\n",
    "    '''\n",
    "    # read from csv file\n",
    "    data = pd.read_csv(os.path.join(root, 'train.csv'))\n",
    "    ID = data.pop('id')\n",
    "\n",
    "    # extracting the labels\n",
    "    y = data.pop('species')\n",
    "\n",
    "    # label encoding the target `species`\n",
    "    leaf_encoder = LabelEncoder()\n",
    "    y = leaf_encoder.fit(y).transform(y)\n",
    "\n",
    "    if standardize:\n",
    "        # standardizing the data\n",
    "        leaf_scaler = StandardScaler()\n",
    "        X = leaf_scaler().fit(data).transform(y)\n",
    "    else:\n",
    "        X = data.values\n",
    "        \n",
    "        return ID, X, y    "
   ]
  },
  {
   "cell_type": "code",
   "execution_count": 22,
   "metadata": {},
   "outputs": [],
   "source": [
    "def resize_img(img, max_dim=96):\n",
    "    '''\n",
    "    Resize the image so that max side is size `max_dim`\n",
    "    -------------Arguements-------------\n",
    "    img(PIL.image): loads raw image from Keras.preprocessing.image\n",
    "    max_dim: maximum image dimension to resize image into\n",
    "    -------------returns-------------\n",
    "    image(np.array): Resized image with largest dim as `max_dim`\n",
    "    '''\n",
    "    # get axis with largest size \n",
    "    max_axis = max((0, 1), key=lambda i: img.size[i])\n",
    "\n",
    "    # scaling both the axis to make the largest dim as `max_axis`\n",
    "    scale = max_dim / img.size[max_axis]\n",
    "    \n",
    "    return img.resize((int(img.size[0]*size), int(img.size[1]*size)))"
   ]
  },
  {
   "cell_type": "code",
   "execution_count": 25,
   "metadata": {},
   "outputs": [],
   "source": [
    "def load_image_data(ids, max_dim=96, center=True):\n",
    "    '''\n",
    "    Takes input array of image IDs &\n",
    "    returns resized image\n",
    "    with largest dim as `max_dim`\n",
    "    -------------Arguements-------------\n",
    "    ids: IDs of images \n",
    "    max_dim: maximum image dimension to resize image into\n",
    "    center: place image in the center\n",
    "    -------------returns-------------\n",
    "    `np.array` type image matrix with padding\n",
    "        if image max(dim) < max_dim\n",
    "    '''\n",
    "    # init o/p array\n",
    "    X = np.empty((len(ids), max_dim, max_dim, 1))\n",
    "    \n",
    "    for i, idee in enumerate(ids):\n",
    "        # cast image into np.array\n",
    "        x = resize_img(load_img(os.path.join(\n",
    "                                    root, 'images', str(idee),\n",
    "                                    grayscale=True),\n",
    "                                max_dim = max_dim))\n",
    "        # image to array\n",
    "        x = img_to_array(x)\n",
    "        \n",
    "        # get corners of boundingbox\n",
    "        length = x.shape[0]\n",
    "        width = x.shape[1]\n",
    "        \n",
    "        if center: # center place image\n",
    "            h1 = int((max_dim - length)/2)\n",
    "            h2 = h1 + length\n",
    "            w1 = int((max_dim - width)/2)\n",
    "            w2 = w2 + width\n",
    "            \n",
    "        else: # top-left corner\n",
    "            h1, w1 = 0, 0\n",
    "            h2, w2 = (length, width)\n",
    "            \n",
    "        # insert image into Image matrix\n",
    "        X[i, h1:h2, w1:w2, 0:1] = x\n",
    "        \n",
    "    return np.around(X / 255.0)"
   ]
  },
  {
   "cell_type": "code",
   "execution_count": 28,
   "metadata": {},
   "outputs": [],
   "source": [
    "def load_train_data(split=split, random_state=None):\n",
    "    '''\n",
    "    load the pre-extracted features and image data.\n",
    "    Split them into train-test and returns them\n",
    "    -------------Arguments-------------\n",
    "    split(float)(0-1): train split size\n",
    "    random_state(num): random seed state\n",
    "    -------------returns-------------\n",
    "    train data tuple: (data features(np.array), image data(np.array), target values(np.array))\n",
    "    test data tuple: (data features(np.array), image data(np.array), target values(np.array))\n",
    "    '''\n",
    "    # loading pre-extracted features\n",
    "    ID, X_num, y = load_numeric_training()\n",
    "\n",
    "    # loa image data\n",
    "    X_img = load_image_data(ID)\n",
    "\n",
    "    # split them into validation and cross-validation\n",
    "    sss = StratifiedShuffleSplit(n_splits=1, train_size=split,\n",
    "                                random_state=random_state)\n",
    "\n",
    "    # cast all data(X_num, y) into a generator function\n",
    "    # & returns the train-test split indexes\n",
    "    train_ind, test_ind = next(sss.split(X_num, y))\n",
    "\n",
    "    # loading test indices\n",
    "    X_num_val_te, X_img_te, y_val_te = X_num[test_ind], X_img[test_ind], y[test_ind]\n",
    "\n",
    "    # loading train indices\n",
    "    X_num_val_tr, X_img_tr, y_val_tr = X_num[train_ind], X_img[train_ind], y[train_ind]\n",
    "\n",
    "    return (X_num_val_tr, X_img_tr, y_val_tr), (X_num_val_te, X_img_te, y_val_te)"
   ]
  },
  {
   "cell_type": "code",
   "execution_count": null,
   "metadata": {},
   "outputs": [],
   "source": []
  },
  {
   "cell_type": "code",
   "execution_count": null,
   "metadata": {},
   "outputs": [],
   "source": []
  },
  {
   "cell_type": "code",
   "execution_count": null,
   "metadata": {},
   "outputs": [],
   "source": []
  },
  {
   "cell_type": "code",
   "execution_count": null,
   "metadata": {},
   "outputs": [],
   "source": []
  }
 ],
 "metadata": {
  "kernelspec": {
   "display_name": "Python 3",
   "language": "python",
   "name": "python3"
  },
  "language_info": {
   "codemirror_mode": {
    "name": "ipython",
    "version": 3
   },
   "file_extension": ".py",
   "mimetype": "text/x-python",
   "name": "python",
   "nbconvert_exporter": "python",
   "pygments_lexer": "ipython3",
   "version": "3.5.5"
  }
 },
 "nbformat": 4,
 "nbformat_minor": 2
}
